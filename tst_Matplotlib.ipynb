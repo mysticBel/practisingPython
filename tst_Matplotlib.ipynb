{
  "nbformat": 4,
  "nbformat_minor": 0,
  "metadata": {
    "colab": {
      "name": "tst_Matplotlib.ipynb",
      "provenance": [],
      "authorship_tag": "ABX9TyNrC8dRJg7kJOkVveu0vkq+",
      "include_colab_link": true
    },
    "kernelspec": {
      "name": "python3",
      "display_name": "Python 3"
    },
    "language_info": {
      "name": "python"
    }
  },
  "cells": [
    {
      "cell_type": "markdown",
      "metadata": {
        "id": "view-in-github",
        "colab_type": "text"
      },
      "source": [
        "<a href=\"https://colab.research.google.com/github/mysticBel/practisingPython/blob/main/tst_Matplotlib.ipynb\" target=\"_parent\"><img src=\"https://colab.research.google.com/assets/colab-badge.svg\" alt=\"Open In Colab\"/></a>"
      ]
    },
    {
      "cell_type": "markdown",
      "source": [
        "Matplotlib : Visualization with Python"
      ],
      "metadata": {
        "id": "mjERilZozA5X"
      }
    },
    {
      "cell_type": "code",
      "execution_count": 3,
      "metadata": {
        "id": "v3Q6cHC7y5lj"
      },
      "outputs": [],
      "source": [
        "import matplotlib.pyplot as plt\n",
        "from random import randrange, seed"
      ]
    },
    {
      "cell_type": "code",
      "source": [
        "randrange(0,11)"
      ],
      "metadata": {
        "colab": {
          "base_uri": "https://localhost:8080/"
        },
        "id": "gh3Nre3-zWYe",
        "outputId": "d5826a50-6d09-484e-dd7d-03cd8a25c98a"
      },
      "execution_count": 5,
      "outputs": [
        {
          "output_type": "execute_result",
          "data": {
            "text/plain": [
              "8"
            ]
          },
          "metadata": {},
          "execution_count": 5
        }
      ]
    },
    {
      "cell_type": "code",
      "source": [
        "grades_maths = []\n",
        "# seed(8)\n",
        "\n",
        "for grades in range(6):\n",
        "  grades_maths.append(randrange(0,11))\n",
        "\n",
        "grades_maths"
      ],
      "metadata": {
        "colab": {
          "base_uri": "https://localhost:8080/"
        },
        "id": "bXbn-74Fzcjt",
        "outputId": "6983c272-b064-4756-9d07-ddf32c0cf846"
      },
      "execution_count": 17,
      "outputs": [
        {
          "output_type": "execute_result",
          "data": {
            "text/plain": [
              "[1, 5, 10, 8, 5, 9]"
            ]
          },
          "metadata": {},
          "execution_count": 17
        }
      ]
    },
    {
      "cell_type": "code",
      "source": [
        "len(grades_maths)"
      ],
      "metadata": {
        "colab": {
          "base_uri": "https://localhost:8080/"
        },
        "id": "iDIhl13lzut1",
        "outputId": "799346df-9a6b-4cd0-a58d-70b3aa3baec8"
      },
      "execution_count": 11,
      "outputs": [
        {
          "output_type": "execute_result",
          "data": {
            "text/plain": [
              "6"
            ]
          },
          "metadata": {},
          "execution_count": 11
        }
      ]
    },
    {
      "cell_type": "markdown",
      "source": [
        "generating a graph :"
      ],
      "metadata": {
        "id": "5qPBGXecz7nX"
      }
    },
    {
      "cell_type": "code",
      "source": [
        "# list(range(1,7))\n",
        "\n",
        "x = list(range(1,7))\n",
        "y = grades_maths\n",
        "plt.plot(x,y, marker = 'o')\n",
        "plt.title('Maths Grades Visualization')\n",
        "plt.xlabel('Tests')\n",
        "plt.ylabel('Grades')\n",
        "plt.show()"
      ],
      "metadata": {
        "colab": {
          "base_uri": "https://localhost:8080/",
          "height": 295
        },
        "id": "Ho6W7Id8z170",
        "outputId": "a590d6c6-94db-4b4c-d4da-9ca531cb225e"
      },
      "execution_count": 18,
      "outputs": [
        {
          "output_type": "display_data",
          "data": {
            "text/plain": [
              "<Figure size 432x288 with 1 Axes>"
            ],
            "image/png": "[encoded data removed]"
          },
          "metadata": {
            "needs_background": "light"
          }
        }
      ]
    }
  ]
}